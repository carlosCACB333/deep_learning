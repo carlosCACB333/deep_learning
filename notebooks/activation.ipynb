{
 "cells": [
  {
   "cell_type": "code",
   "execution_count": 1,
   "metadata": {},
   "outputs": [
    {
     "name": "stderr",
     "output_type": "stream",
     "text": [
      "2023-03-20 12:30:42.653820: I tensorflow/core/platform/cpu_feature_guard.cc:193] This TensorFlow binary is optimized with oneAPI Deep Neural Network Library (oneDNN) to use the following CPU instructions in performance-critical operations:  SSE4.1 SSE4.2 AVX AVX2 FMA\n",
      "To enable them in other operations, rebuild TensorFlow with the appropriate compiler flags.\n"
     ]
    }
   ],
   "source": [
    "import numpy as np\n",
    "import pandas as pd\n",
    "import matplotlib.pyplot as plt\n",
    "import seaborn as sns\n",
    "import tensorflow as tf\n",
    "from tensorflow import keras\n",
    "from tensorflow.keras import layers\n",
    "from tensorflow.keras import models\n",
    "from utils.utils import tran_val_test_split\n"
   ]
  },
  {
   "cell_type": "code",
   "execution_count": 2,
   "metadata": {},
   "outputs": [
    {
     "data": {
      "text/html": [
       "<div>\n",
       "<style scoped>\n",
       "    .dataframe tbody tr th:only-of-type {\n",
       "        vertical-align: middle;\n",
       "    }\n",
       "\n",
       "    .dataframe tbody tr th {\n",
       "        vertical-align: top;\n",
       "    }\n",
       "\n",
       "    .dataframe thead th {\n",
       "        text-align: right;\n",
       "    }\n",
       "</style>\n",
       "<table border=\"1\" class=\"dataframe\">\n",
       "  <thead>\n",
       "    <tr style=\"text-align: right;\">\n",
       "      <th></th>\n",
       "      <th>V12</th>\n",
       "      <th>V20</th>\n",
       "    </tr>\n",
       "  </thead>\n",
       "  <tbody>\n",
       "    <tr>\n",
       "      <th>34558</th>\n",
       "      <td>-1.211833</td>\n",
       "      <td>-0.342666</td>\n",
       "    </tr>\n",
       "    <tr>\n",
       "      <th>258821</th>\n",
       "      <td>0.120589</td>\n",
       "      <td>0.098763</td>\n",
       "    </tr>\n",
       "    <tr>\n",
       "      <th>176210</th>\n",
       "      <td>-0.399938</td>\n",
       "      <td>-0.257213</td>\n",
       "    </tr>\n",
       "    <tr>\n",
       "      <th>201025</th>\n",
       "      <td>0.117989</td>\n",
       "      <td>0.311105</td>\n",
       "    </tr>\n",
       "    <tr>\n",
       "      <th>62506</th>\n",
       "      <td>0.559710</td>\n",
       "      <td>-0.145106</td>\n",
       "    </tr>\n",
       "    <tr>\n",
       "      <th>...</th>\n",
       "      <td>...</td>\n",
       "      <td>...</td>\n",
       "    </tr>\n",
       "    <tr>\n",
       "      <th>211672</th>\n",
       "      <td>0.732595</td>\n",
       "      <td>-0.199305</td>\n",
       "    </tr>\n",
       "    <tr>\n",
       "      <th>78920</th>\n",
       "      <td>0.382500</td>\n",
       "      <td>-0.212306</td>\n",
       "    </tr>\n",
       "    <tr>\n",
       "      <th>81876</th>\n",
       "      <td>-0.144100</td>\n",
       "      <td>0.204805</td>\n",
       "    </tr>\n",
       "    <tr>\n",
       "      <th>192127</th>\n",
       "      <td>0.138113</td>\n",
       "      <td>-0.078454</td>\n",
       "    </tr>\n",
       "    <tr>\n",
       "      <th>91466</th>\n",
       "      <td>-0.042159</td>\n",
       "      <td>-0.098985</td>\n",
       "    </tr>\n",
       "  </tbody>\n",
       "</table>\n",
       "<p>99682 rows × 2 columns</p>\n",
       "</div>"
      ],
      "text/plain": [
       "             V12       V20\n",
       "34558  -1.211833 -0.342666\n",
       "258821  0.120589  0.098763\n",
       "176210 -0.399938 -0.257213\n",
       "201025  0.117989  0.311105\n",
       "62506   0.559710 -0.145106\n",
       "...          ...       ...\n",
       "211672  0.732595 -0.199305\n",
       "78920   0.382500 -0.212306\n",
       "81876  -0.144100  0.204805\n",
       "192127  0.138113 -0.078454\n",
       "91466  -0.042159 -0.098985\n",
       "\n",
       "[99682 rows x 2 columns]"
      ]
     },
     "execution_count": 2,
     "metadata": {},
     "output_type": "execute_result"
    }
   ],
   "source": [
    "df= pd.read_csv('../data/processed/creditcard.csv')\n",
    "X_train, X_val, X_test, y_train, y_val, y_test = tran_val_test_split(df[[\n",
    "    'V12',\"V20\",\"Class\"\n",
    "]], 'Class')\n",
    "X_train"
   ]
  },
  {
   "cell_type": "code",
   "execution_count": 3,
   "metadata": {},
   "outputs": [
    {
     "name": "stdout",
     "output_type": "stream",
     "text": [
      "Epoch 1/10\n"
     ]
    },
    {
     "name": "stderr",
     "output_type": "stream",
     "text": [
      "2023-03-20 12:30:45.204191: I tensorflow/core/platform/cpu_feature_guard.cc:193] This TensorFlow binary is optimized with oneAPI Deep Neural Network Library (oneDNN) to use the following CPU instructions in performance-critical operations:  SSE4.1 SSE4.2 AVX AVX2 FMA\n",
      "To enable them in other operations, rebuild TensorFlow with the appropriate compiler flags.\n"
     ]
    },
    {
     "name": "stdout",
     "output_type": "stream",
     "text": [
      "3116/3116 [==============================] - 6s 2ms/step - loss: 0.0289 - accuracy: 0.9980 - precision: 0.0000e+00 - val_loss: 0.0132 - val_accuracy: 0.9984 - val_precision: 0.0000e+00\n",
      "Epoch 2/10\n",
      "3116/3116 [==============================] - 6s 2ms/step - loss: 0.0148 - accuracy: 0.9980 - precision: 0.0000e+00 - val_loss: 0.0122 - val_accuracy: 0.9984 - val_precision: 0.0000e+00\n",
      "Epoch 3/10\n",
      "3116/3116 [==============================] - 5s 2ms/step - loss: 0.0144 - accuracy: 0.9980 - precision: 0.0000e+00 - val_loss: 0.0120 - val_accuracy: 0.9984 - val_precision: 0.0000e+00\n",
      "Epoch 4/10\n",
      "3116/3116 [==============================] - 5s 2ms/step - loss: 0.0144 - accuracy: 0.9980 - precision: 0.0000e+00 - val_loss: 0.0119 - val_accuracy: 0.9984 - val_precision: 0.0000e+00\n",
      "Epoch 5/10\n",
      "3116/3116 [==============================] - 5s 2ms/step - loss: 0.0143 - accuracy: 0.9980 - precision: 0.0000e+00 - val_loss: 0.0119 - val_accuracy: 0.9984 - val_precision: 0.0000e+00\n",
      "Epoch 6/10\n",
      "3116/3116 [==============================] - 6s 2ms/step - loss: 0.0143 - accuracy: 0.9980 - precision: 0.0000e+00 - val_loss: 0.0119 - val_accuracy: 0.9984 - val_precision: 0.0000e+00\n",
      "Epoch 7/10\n",
      "3116/3116 [==============================] - 6s 2ms/step - loss: 0.0143 - accuracy: 0.9980 - precision: 0.0000e+00 - val_loss: 0.0118 - val_accuracy: 0.9984 - val_precision: 0.0000e+00\n",
      "Epoch 8/10\n",
      "3116/3116 [==============================] - 6s 2ms/step - loss: 0.0143 - accuracy: 0.9980 - precision: 0.0000e+00 - val_loss: 0.0119 - val_accuracy: 0.9984 - val_precision: 0.0000e+00\n",
      "Epoch 9/10\n",
      "3116/3116 [==============================] - 5s 2ms/step - loss: 0.0143 - accuracy: 0.9980 - precision: 0.0000e+00 - val_loss: 0.0118 - val_accuracy: 0.9984 - val_precision: 0.0000e+00\n",
      "Epoch 10/10\n",
      "3116/3116 [==============================] - 5s 2ms/step - loss: 0.0143 - accuracy: 0.9980 - precision: 0.0000e+00 - val_loss: 0.0118 - val_accuracy: 0.9984 - val_precision: 0.0000e+00\n"
     ]
    },
    {
     "data": {
      "text/plain": [
       "<keras.callbacks.History at 0x7f7da871eb50>"
      ]
     },
     "execution_count": 3,
     "metadata": {},
     "output_type": "execute_result"
    }
   ],
   "source": [
    "act='sigmoid'\n",
    "model=models.Sequential()\n",
    "model.add(layers.Dense(128, activation=act, input_shape=(X_train.shape[1],)))\n",
    "model.add(layers.Dense(64, activation=act))\n",
    "model.add(layers.Dense(32, activation=act))\n",
    "model.add(layers.Dense(16, activation=act))\n",
    "model.add(layers.Dense(1, activation='sigmoid'))\n",
    "model.compile(optimizer='sgd', loss='binary_crossentropy', metrics=['accuracy','Precision'])\n",
    "model.fit(X_train, y_train, epochs=10,validation_data=(X_val, y_val)) "
   ]
  }
 ],
 "metadata": {
  "kernelspec": {
   "display_name": "deep_learning",
   "language": "python",
   "name": "python3"
  },
  "language_info": {
   "codemirror_mode": {
    "name": "ipython",
    "version": 3
   },
   "file_extension": ".py",
   "mimetype": "text/x-python",
   "name": "python",
   "nbconvert_exporter": "python",
   "pygments_lexer": "ipython3",
   "version": "3.9.16"
  },
  "orig_nbformat": 4
 },
 "nbformat": 4,
 "nbformat_minor": 2
}
